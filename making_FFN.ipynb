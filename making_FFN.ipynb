{
 "cells": [
  {
   "cell_type": "code",
   "execution_count": 1,
   "metadata": {},
   "outputs": [],
   "source": [
    "import numpy as np\n",
    "import pandas as pd"
   ]
  },
  {
   "cell_type": "code",
   "execution_count": 3,
   "metadata": {},
   "outputs": [],
   "source": [
    "## 학습률, bias, epoch, loss 저장 리스트 설정\n",
    "\n",
    "learning_rate = 0.001\n",
    "bias = 0.7\n",
    "epochs = 50\n",
    "final_epoch_loss = []"
   ]
  },
  {
   "cell_type": "code",
   "execution_count": 11,
   "metadata": {},
   "outputs": [
    {
     "data": {
      "text/plain": [
       "array([0.63226469, 0.40461281, 0.21631624])"
      ]
     },
     "execution_count": 11,
     "metadata": {},
     "output_type": "execute_result"
    }
   ],
   "source": [
    "random_generator = np.random.default_rng()"
   ]
  },
  {
   "cell_type": "code",
   "execution_count": 12,
   "metadata": {},
   "outputs": [],
   "source": [
    "## 랜덤 가중치 설정 함수\n",
    "\n",
    "def generate_data(n_features, n_values):\n",
    "    weights = random_generator.random((1, n_values))[0]\n",
    "    features = random_generator.random((n_features, n_values))\n",
    "    targets = np.random.choice([0,1], n_features)\n",
    "    data = pd.DataFrame(features, columns=[\"n1\", \"n2\", \"n3\", \"n4\"])\n",
    "    data[\"target\"] = targets\n",
    "    return data, weights\n",
    "\n",
    "## 가중치, 값 행렬곱 + bias\n",
    "\n",
    "def get_weighted_sum(features, weights, bias):\n",
    "    return np.dot(features, weights) + bias\n",
    "\n",
    "## 이진 분류를 위한 활성함수 sigmoid 설정ㅈ\n",
    "\n",
    "def sigmoid(x):\n",
    "    return 1/(1+np.exp(-x))\n",
    "\n",
    "## 손실함수 cross_entropy_loss 설정\n",
    "\n",
    "def cross_entropy_loss(target, prediction):\n",
    "    return -(target*np.log10(prediction) + (1-target)*np.log10(1-prediction))\n",
    "\n",
    "## 가중치 업데이트 함수 설정\n",
    "\n",
    "def update_weights(weights, learning_rate, target, prediction, feature):\n",
    "    new_weights = []\n",
    "    for input_x, old_weight in zip(feature, weights):\n",
    "        new_weight = old_weight + learning_rate*(target - prediction)*input_x\n",
    "        new_weights.append(new_weight)\n",
    "    return new_weights\n",
    "\n",
    "## 가중치 업데이트 실행\n",
    "\n",
    "def update_bias(bias, learning_rate, target, prediction):\n",
    "    return bias + learning_rate*(target-prediction)\n"
   ]
  },
  {
   "cell_type": "code",
   "execution_count": 21,
   "metadata": {},
   "outputs": [],
   "source": [
    "## 랜덤한 4개의 데이터 + 가중치 설정\n",
    "data, weights = generate_data(500,4)\n",
    "\n",
    "def train_model(data, weights, bias, learning_rate, epochs):\n",
    "    for epoch in range(epochs):\n",
    "        individual_loss = []\n",
    "        for i in range(0, len(data)):\n",
    "            feature = data.loc[i][:-1] ## data에서 feature 추출\n",
    "            target = data.loc[i][-1]  ## data에서 타겟 값 추출\n",
    "            w_sum = get_weighted_sum(features=feature, weights=weights, bias=bias)\n",
    "            prediction = sigmoid(w_sum)\n",
    "            loss = cross_entropy_loss(target, prediction)\n",
    "            individual_loss.append(loss)\n",
    "            weights = update_weights(weights, learning_rate, target, prediction, feature)\n",
    "            bias = update_bias(bias, learning_rate, target, prediction)\n",
    "        average_loss = sum(individual_loss)/len(individual_loss)\n",
    "        final_epoch_loss.append(average_loss)\n",
    "        print(f\"Epoch : {epoch} , Loss:  {average_loss}\")"
   ]
  },
  {
   "cell_type": "code",
   "execution_count": 22,
   "metadata": {},
   "outputs": [
    {
     "name": "stdout",
     "output_type": "stream",
     "text": [
      "Epoch : 0 , Loss:  0.3484464490479706\n",
      "Epoch : 1 , Loss:  0.33120895786242943\n",
      "Epoch : 2 , Loss:  0.3198669116261405\n",
      "Epoch : 3 , Loss:  0.3125976356809011\n",
      "Epoch : 4 , Loss:  0.3080176732258534\n",
      "Epoch : 5 , Loss:  0.3051594466828333\n",
      "Epoch : 6 , Loss:  0.3033812294323448\n",
      "Epoch : 7 , Loss:  0.3022716713071329\n",
      "Epoch : 8 , Loss:  0.3015727550577579\n",
      "Epoch : 9 , Loss:  0.30112484928875677\n",
      "Epoch : 10 , Loss:  0.30083004395668395\n",
      "Epoch : 11 , Loss:  0.3006286098030739\n",
      "Epoch : 12 , Loss:  0.300484229507667\n",
      "Epoch : 13 , Loss:  0.3003748625523519\n",
      "Epoch : 14 , Loss:  0.30028714447795035\n",
      "Epoch : 15 , Loss:  0.30021297211702297\n",
      "Epoch : 16 , Loss:  0.3001474289196528\n",
      "Epoch : 17 , Loss:  0.3000875272453623\n",
      "Epoch : 18 , Loss:  0.30003144694181266\n",
      "Epoch : 19 , Loss:  0.2999780747242295\n",
      "Epoch : 20 , Loss:  0.299926725611516\n",
      "Epoch : 21 , Loss:  0.29987697445616335\n",
      "Epoch : 22 , Loss:  0.2998285540205514\n",
      "Epoch : 23 , Loss:  0.29978129327203273\n",
      "Epoch : 24 , Loss:  0.2997350799884552\n",
      "Epoch : 25 , Loss:  0.29968983806403665\n",
      "Epoch : 26 , Loss:  0.29964551371031123\n",
      "Epoch : 27 , Loss:  0.29960206704459086\n",
      "Epoch : 28 , Loss:  0.29955946694578933\n",
      "Epoch : 29 , Loss:  0.2995176878952597\n",
      "Epoch : 30 , Loss:  0.2994767080263219\n",
      "Epoch : 31 , Loss:  0.2994365079119062\n",
      "Epoch : 32 , Loss:  0.2993970698046302\n",
      "Epoch : 33 , Loss:  0.29935837715548463\n",
      "Epoch : 34 , Loss:  0.29932041430509326\n",
      "Epoch : 35 , Loss:  0.2992831662826304\n",
      "Epoch : 36 , Loss:  0.2992466186724881\n",
      "Epoch : 37 , Loss:  0.29921075752402515\n",
      "Epoch : 38 , Loss:  0.2991755692890406\n",
      "Epoch : 39 , Loss:  0.2991410407773492\n",
      "Epoch : 40 , Loss:  0.2991071591243501\n",
      "Epoch : 41 , Loss:  0.29907391176668907\n",
      "Epoch : 42 , Loss:  0.2990412864234717\n",
      "Epoch : 43 , Loss:  0.2990092710813616\n",
      "Epoch : 44 , Loss:  0.29897785398244153\n",
      "Epoch : 45 , Loss:  0.2989470236140823\n",
      "Epoch : 46 , Loss:  0.2989167687002926\n",
      "Epoch : 47 , Loss:  0.2988870781941768\n",
      "Epoch : 48 , Loss:  0.29885794127123744\n",
      "Epoch : 49 , Loss:  0.29882934732333555\n"
     ]
    }
   ],
   "source": [
    "train_model(data, weights, bias, learning_rate, epochs)"
   ]
  },
  {
   "cell_type": "code",
   "execution_count": 24,
   "metadata": {},
   "outputs": [
    {
     "data": {
      "image/png": "[encoded data removed]",
      "text/plain": [
       "<Figure size 432x288 with 1 Axes>"
      ]
     },
     "metadata": {
      "needs_background": "light"
     },
     "output_type": "display_data"
    }
   ],
   "source": [
    "## Figure 그리기\n",
    "\n",
    "df = pd.DataFrame(final_epoch_loss)\n",
    "df_plot = df.plot(kind=\"line\", grid=True).get_figure()"
   ]
  }
 ],
 "metadata": {
  "kernelspec": {
   "display_name": "base",
   "language": "python",
   "name": "python3"
  },
  "language_info": {
   "codemirror_mode": {
    "name": "ipython",
    "version": 3
   },
   "file_extension": ".py",
   "mimetype": "text/x-python",
   "name": "python",
   "nbconvert_exporter": "python",
   "pygments_lexer": "ipython3",
   "version": "3.9.12"
  },
  "orig_nbformat": 4,
  "vscode": {
   "interpreter": {
    "hash": "98ea8c2842b6000a1fa080eb0901d849490cbb9e2293751e2c3af828f54f817e"
   }
  }
 },
 "nbformat": 4,
 "nbformat_minor": 2
}
