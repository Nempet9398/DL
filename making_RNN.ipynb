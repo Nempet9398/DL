{
 "cells": [
  {
   "cell_type": "code",
   "execution_count": 1,
   "metadata": {},
   "outputs": [],
   "source": [
    "import numpy as np"
   ]
  },
  {
   "cell_type": "code",
   "execution_count": 2,
   "metadata": {},
   "outputs": [],
   "source": [
    "## 랜덤 변수 설정 (n_features : 특성의 개수 , n_values : 데이터 개수 )\n",
    "\n",
    "random_generator = np.random.default_rng()\n",
    "\n",
    "def generate_data(n_features, n_values):\n",
    "    features = random_generator.random((n_features, n_values))\n",
    "    targets = random_generator.random((n_features))\n",
    "    return features, targets"
   ]
  },
  {
   "cell_type": "code",
   "execution_count": 3,
   "metadata": {},
   "outputs": [],
   "source": [
    "x_train, y_train = generate_data(500,4)\n",
    "x_test, y_test = generate_data(5,4)"
   ]
  },
  {
   "cell_type": "code",
   "execution_count": 9,
   "metadata": {},
   "outputs": [
    {
     "data": {
      "text/plain": [
       "(500, 4)"
      ]
     },
     "execution_count": 9,
     "metadata": {},
     "output_type": "execute_result"
    }
   ],
   "source": [
    "x_train.shape"
   ]
  },
  {
   "cell_type": "code",
   "execution_count": 6,
   "metadata": {},
   "outputs": [],
   "source": [
    "class RNN:\n",
    "    def __init__(self):\n",
    "        self.global_weight = [1, 1] # [Input, Recurrent Weight]\n",
    "        self.local_weight = [0.001, 0.001] ## RNN 입력이 두개이기 때문 (현재, 과거 데이터)\n",
    "        self.W_sign = [0, 0] # penalty 용도\n",
    "\n",
    "        self.eta_p = 1.2\n",
    "        self.eta_n = 0.5\n",
    "\n",
    "    # 입력값 설정\n",
    "    def state_handler(self, input_x, previous_state):\n",
    "        return input_x * self.global_weight[0] + previous_state * self.global_weight[1]\n",
    "\n",
    "    # 순방향 전파\n",
    "    def forward_propagation(self, X):\n",
    "\n",
    "      S = np.zeros((X.shape[0], X.shape[1]+1)) ## 초기화\n",
    "      for k in range(0, X.shape[1]):  ## 실제 입력\n",
    "          next_state = self.state_handler(X[:,k], S[:,k]) ## 마지막 State와 입력을 합쳐 전달\n",
    "          S[:,k+1] = next_state\n",
    "      return S\n",
    "    # 역전파\n",
    "    def backward_propagation(self, X, S, grad_out):\n",
    "   \n",
    "        grad_over_time = np.zeros(( X.shape[0], X.shape[1]+1 ))\n",
    "        grad_over_time[:,-1] = grad_out\n",
    "\n",
    "        ## 2차원 데이터에 의한 x, y 가중치\n",
    "        wx_grad = 0\n",
    "        wy_grad = 0\n",
    "        for k in range(X.shape[1], 0, -1):\n",
    "            wx_grad += np.sum( grad_over_time[:, k] * X[:, k-1] )\n",
    "            wy_grad += np.sum( grad_over_time[:, k] * S[:, k-1] )\n",
    "\n",
    "            grad_over_time[:, k-1] = grad_over_time[:, k] * self.global_weight[1]\n",
    "        return (wx_grad, wy_grad), grad_over_time\n",
    "\n",
    "    def update_rprop(self, X, Y, W_prev_sign, local_weight):\n",
    "        S = self.forward_propagation(X)\n",
    "        grad_out = 2 * (S[:, -1] - Y) / 500\n",
    "        W_grads, _ = self.backward_propagation(X, S, grad_out)\n",
    "        self.W_sign = np.sign(W_grads)\n",
    "\n",
    "        for i, _ in enumerate(self.global_weight):\n",
    "            if self.W_sign[i] == W_prev_sign[i]:\n",
    "                local_weight[i] *= self.eta_p\n",
    "            else:\n",
    "                local_weight[i] *= self.eta_n\n",
    "        self.local_weight = local_weight\n",
    "\n",
    "    def train(self, X, Y, training_epochs):\n",
    "        for epochs in range(training_epochs):\n",
    "            self.update_rprop(X, Y, self.W_sign, self.local_weight)\n",
    "\n",
    "            for i, _ in enumerate(self.global_weight):\n",
    "                self.global_weight[i] -= self.W_sign[i] * self.local_weight[i]"
   ]
  },
  {
   "cell_type": "code",
   "execution_count": 8,
   "metadata": {},
   "outputs": [
    {
     "name": "stdout",
     "output_type": "stream",
     "text": [
      "Targets are: [0.10439912 0.40632159 0.70744394 0.94351491 0.51583449]\n",
      "Predicted are: [0.3790664  0.50918187 0.60429245 0.52113766 0.61947291]\n"
     ]
    }
   ],
   "source": [
    "rnn = RNN()\n",
    "rnn.train(x_train, y_train, 200)\n",
    "\n",
    "print (f\"Targets are: {y_test}\")\n",
    "y = rnn.forward_propagation(x_test)[:, -1]\n",
    "print (f\"Predicted are: {y}\")"
   ]
  }
 ],
 "metadata": {
  "kernelspec": {
   "display_name": "base",
   "language": "python",
   "name": "python3"
  },
  "language_info": {
   "codemirror_mode": {
    "name": "ipython",
    "version": 3
   },
   "file_extension": ".py",
   "mimetype": "text/x-python",
   "name": "python",
   "nbconvert_exporter": "python",
   "pygments_lexer": "ipython3",
   "version": "3.9.12"
  },
  "orig_nbformat": 4,
  "vscode": {
   "interpreter": {
    "hash": "98ea8c2842b6000a1fa080eb0901d849490cbb9e2293751e2c3af828f54f817e"
   }
  }
 },
 "nbformat": 4,
 "nbformat_minor": 2
}
