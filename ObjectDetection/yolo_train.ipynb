{
 "cells": [
  {
   "cell_type": "code",
   "execution_count": null,
   "metadata": {},
   "outputs": [],
   "source": []
  },
  {
   "cell_type": "markdown",
   "metadata": {},
   "source": [
    "# COCO dataset 을 YOLO로 바꾸기 위한 conver2YOLO 데이터변환"
   ]
  },
  {
   "cell_type": "code",
   "execution_count": 1,
   "metadata": {},
   "outputs": [
    {
     "name": "stderr",
     "output_type": "stream",
     "text": [
      "Cloning into 'conver2Yolo'...\n",
      "fatal: unable to access 'https://githubcom/ssaru/conver2Yolo/': Failed to connect to githubcom port 443: Timed out\n"
     ]
    }
   ],
   "source": [
    "!git clone https://githubcom/ssaru/conver2Yolo"
   ]
  },
  {
   "cell_type": "code",
   "execution_count": null,
   "metadata": {},
   "outputs": [],
   "source": [
    "## dataset 종류 / img 경로 / label 경로 / 결과 path / names 파일 입력 \n",
    "!python Z:/download/pipe/project/data/convert2Yolo/example.py --datasets COCO --img_path Z:/download/pipe/project/data/Training/real/BK --label Z:/download/pipe/project/data/Training/labels/BK.json --convert_output_path Z:/download/pipe/project/data/Training/real/labels/train  --img_type \".png\" --manifest_path Z:/download/pipe/project/data/Training/real/bk_manifest --cls_list_file Z:/download/pipe/project/data/voc.names"
   ]
  },
  {
   "cell_type": "code",
   "execution_count": null,
   "metadata": {},
   "outputs": [],
   "source": [
    "## COCO 데이터셋에 맞춰있는 데이터를 Yolov5로 학습시키기위한 데이터 라벨 / 파일 형식 구축\n",
    "## COCO 데이터셋 - 이미지 / 라벨링 JSON 파일 -> 이미지 / 각 이미지에 대한 라벨링.txt 파일\n",
    "## 파일 형식\n",
    "## Dataset\n",
    "## |- images\n",
    "## |---- train\n",
    "## |---- val\n",
    "## |\n",
    "## |- label\n",
    "## |---- train\n",
    "## |---- val\n",
    "\n",
    "\n",
    "## 현재 데이터셋에 맞게 manifest 파일 만들기\n",
    "import os\n",
    "\n",
    "# images 폴더 경로\n",
    "images_folder = 'Z:/download/pipe/project/data/Training/real/images/train'\n",
    "\n",
    "# train_manifest_revised.txt 파일 경로\n",
    "manifest_filename = 'Z:/download/pipe/project/data/Training/real_foldertrain_manifest_revised.txt'\n",
    "\n",
    "# images 폴더 내의 파일 목록을 가져오기\n",
    "image_files = os.listdir(images_folder)\n",
    "\n",
    "# 이미지 파일 목록을 train_manifest_revised.txt에 쓰기\n",
    "with open(manifest_filename, 'w') as manifest_file:\n",
    "    for image_file in image_files:\n",
    "        image_path = os.path.join(images_folder, image_file)\n",
    "        manifest_file.write(f'{image_path}\\n')\n",
    "\n",
    "\n",
    "# 폴더 경로 - 수정사항 있을 때 사용하기\n",
    "\n",
    "labels_folder = 'Z:/download/pipe/project/data/Training/real/labels/train'\n",
    "images_folder = 'Z:/download/pipe/project/data/Training/real/images/train'\n",
    "\n",
    "# labels 폴더 내의 파일 목록을 가져오기\n",
    "label_files = os.listdir(labels_folder)\n",
    "\n",
    "for label_file in label_files:\n",
    "    # 파일 경로\n",
    "    label_path = os.path.join(labels_folder, label_file)\n",
    "    image_path = os.path.join(images_folder, label_file.replace('.txt', '.png'))\n",
    "\n",
    "    # 이미지 파일이 없는 경우 해당 labels 파일을 삭제\n",
    "    if not os.path.exists(image_path):\n",
    "        print(f\"Deleting {label_file} since the related image file doesn't exist\")\n",
    "        os.remove(label_path)\n",
    "\n",
    "def replace_path(line):\n",
    "    return line.replace(\"real\\\\LP\", \"real\\\\images\\\\train\").replace(\"real\\\\BK\", \"real\\\\images\\\\train\")\n",
    "\n",
    "# manifest.txt 파일 경로\n",
    "manifest_filename = 'Z:/download/pipe/project/data/Training/real/manifest.txt'\n",
    "\n",
    "# 수정된 내용을 저장할 새로운 파일 경로\n",
    "new_manifest_filename = 'Z:/download/pipe/project/data/Training/real/new_manifest.txt'\n",
    "\n",
    "# manifest.txt 파일을 읽고 수정된 내용을 새 파일에 저장\n",
    "with open(manifest_filename, 'r') as input_file, open(new_manifest_filename, 'w') as output_file:\n",
    "    for line in input_file:\n",
    "        modified_line = replace_path(line)\n",
    "        output_file.write(modified_line)\n",
    "\n",
    "print(f\"Paths replaced in {new_manifest_filename}\")\n",
    "import os\n",
    "\n",
    "## label 텍스트 파일 수정\n",
    "\n",
    "# 폴더 경로\n",
    "labels_folder = 'Z:/download/pipe/project/data/Training/real/labels/train'\n",
    "images_folder = 'Z:/download/pipe/project/data/Training/real/images/train'\n",
    "manifest_filename = 'Z:/download/pipe/project/data/Training/real_folder/revised_manifest.txt'\n",
    "\n",
    "# labels 폴더 내의 파일 목록을 가져오기\n",
    "label_files = os.listdir(labels_folder)\n",
    "\n",
    "# 새로운 manifest 파일을 생성할 리스트\n",
    "new_manifest_lines = []\n",
    "\n",
    "for label_file in label_files:\n",
    "    # 파일 경로\n",
    "    label_path = os.path.join(labels_folder, label_file)\n",
    "    image_path = os.path.join(images_folder, label_file.replace('.txt', '.png'))\n",
    "\n",
    "    # 파일을 읽어서 각 객체의 정보를 확인\n",
    "    with open(label_path, 'r') as file:\n",
    "        lines = file.readlines()\n",
    "\n",
    "    should_delete = False\n",
    "\n",
    "    for line in lines:\n",
    "        class_value, x, y, width, height = line.strip().split()\n",
    "        class_value = class_value.strip()\n",
    "        x, y, width, height = map(float, [x, y, width, height])\n",
    "        if x > 1 or y > 1 or width > 1 or height > 1 or class_value == 'None':\n",
    "            should_delete = True\n",
    "            break\n",
    "\n",
    "    if should_delete:\n",
    "        print(f\"Deleting {label_file} and related image {label_file.replace('.txt', '.png')}\")\n",
    "        os.remove(label_path)\n",
    "        if os.path.exists(image_path):\n",
    "            os.remove(image_path)\n",
    "    else:\n",
    "        new_manifest_lines.append(image_path + '\\n')\n",
    "\n",
    "# 새로운 manifest 파일을 작성\n",
    "with open(manifest_filename, 'w') as manifest_file:\n",
    "    manifest_file.writelines(new_manifest_lines)\n"
   ]
  },
  {
   "cell_type": "code",
   "execution_count": 5,
   "metadata": {},
   "outputs": [
    {
     "name": "stdout",
     "output_type": "stream",
     "text": [
      "Looking in links: https://download.pytorch.org/whl/torch_stable.html\n",
      "Requirement already satisfied: torch==1.7.1+cu110 in c:\\programdata\\anaconda3\\lib\\site-packages (1.7.1+cu110)\n",
      "Collecting torchvision==0.8.2+cu110\n",
      "  Using cached https://download.pytorch.org/whl/cu110/torchvision-0.8.2%2Bcu110-cp38-cp38-win_amd64.whl (1.6 MB)\n",
      "Requirement already satisfied: torchaudio==0.7.2 in c:\\users\\hb\\appdata\\roaming\\python\\python38\\site-packages (0.7.2)\n",
      "Requirement already satisfied: numpy in c:\\users\\hb\\appdata\\roaming\\python\\python38\\site-packages (from torch==1.7.1+cu110) (1.22.4)\n",
      "Requirement already satisfied: typing-extensions in c:\\programdata\\anaconda3\\lib\\site-packages (from torch==1.7.1+cu110) (4.7.1)\n",
      "Requirement already satisfied: pillow>=4.1.1 in c:\\users\\hb\\appdata\\roaming\\python\\python38\\site-packages (from torchvision==0.8.2+cu110) (9.5.0)\n",
      "Installing collected packages: torchvision\n",
      "  Attempting uninstall: torchvision\n",
      "    Found existing installation: torchvision 0.16.0\n",
      "    Uninstalling torchvision-0.16.0:\n",
      "      Successfully uninstalled torchvision-0.16.0\n",
      "Successfully installed torchvision-0.8.2+cu110\n"
     ]
    },
    {
     "name": "stderr",
     "output_type": "stream",
     "text": [
      "ERROR: pip's dependency resolver does not currently take into account all the packages that are installed. This behaviour is the source of the following dependency conflicts.\n",
      "ultralytics 8.0.202 requires torch>=1.8.0, but you have torch 1.7.1+cu110 which is incompatible.\n",
      "ultralytics 8.0.202 requires torchvision>=0.9.0, but you have torchvision 0.8.2+cu110 which is incompatible.\n",
      "autogluon-multimodal 0.8.2 requires torch<1.14,>=1.9, but you have torch 1.7.1+cu110 which is incompatible.\n"
     ]
    }
   ],
   "source": [
    "!pip install torch==1.7.1+cu110 torchvision==0.8.2+cu110 torchaudio==0.7.2 -f https://download.pytorch.org/whl/torch_stable.html --user"
   ]
  },
  {
   "cell_type": "code",
   "execution_count": 31,
   "metadata": {},
   "outputs": [
    {
     "name": "stdout",
     "output_type": "stream",
     "text": [
      "CUDA 사용 가능. GPU 디바이스 수: 1\n",
      "현재 선택한 GPU 디바이스: cuda:0\n"
     ]
    }
   ],
   "source": [
    "import torch\n",
    "\n",
    "# CUDA가 사용 가능한지 확인\n",
    "if torch.cuda.is_available():\n",
    "    # 현재 사용 가능한 GPU 디바이스의 수를 가져옵니다.\n",
    "    num_gpus = torch.cuda.device_count()\n",
    "    \n",
    "    # 사용 가능한 GPU 중에서 첫 번째 GPU를 선택하거나 다른 GPU를 선택하려면 인덱스를 변경할 수 있습니다.\n",
    "    device = torch.device(\"cuda:0\")  # 첫 번째 GPU 선택\n",
    "    # device = torch.device(\"cuda:1\")  # 두 번째 GPU 선택\n",
    "\n",
    "    print(\"CUDA 사용 가능. GPU 디바이스 수:\", num_gpus)\n",
    "    print(\"현재 선택한 GPU 디바이스:\", device)\n",
    "\n",
    "else:\n",
    "    # CUDA를 사용할 수 없는 경우 CPU를 사용합니다.\n",
    "    device = torch.device(\"cpu\")\n",
    "    print(\"CUDA 사용 불가능. CPU를 사용합니다.\")\n"
   ]
  },
  {
   "cell_type": "markdown",
   "metadata": {},
   "source": [
    "## Yolov5 클론 진행 후 train.py 실행"
   ]
  },
  {
   "cell_type": "code",
   "execution_count": 4,
   "metadata": {},
   "outputs": [
    {
     "name": "stdout",
     "output_type": "stream",
     "text": [
      "Z:\\download\\pipe\\project\\data\n"
     ]
    },
    {
     "name": "stderr",
     "output_type": "stream",
     "text": [
      "Cloning into 'yolov5'...\n"
     ]
    }
   ],
   "source": [
    "%cd Z:/download/pipe/project/data\n",
    "!git clone https://github.com/ultralytics/yolov5.git"
   ]
  },
  {
   "cell_type": "code",
   "execution_count": 10,
   "metadata": {},
   "outputs": [
    {
     "name": "stdout",
     "output_type": "stream",
     "text": [
      "Collecting gitpython>=3.1.30\n",
      "  Using cached GitPython-3.1.40-py3-none-any.whl (190 kB)\n",
      "Requirement already satisfied: matplotlib>=3.3 in c:\\programdata\\anaconda3\\lib\\site-packages (from -r requirements.txt (line 6)) (3.3.4)\n",
      "Requirement already satisfied: numpy>=1.22.2 in c:\\users\\hb\\appdata\\roaming\\python\\python38\\site-packages (from -r requirements.txt (line 7)) (1.22.4)\n",
      "Collecting opencv-python>=4.1.1\n",
      "  Using cached opencv_python-4.8.1.78-cp37-abi3-win_amd64.whl (38.1 MB)\n",
      "Requirement already satisfied: psutil in c:\\programdata\\anaconda3\\lib\\site-packages (from -r requirements.txt (line 10)) (5.9.5)\n",
      "Requirement already satisfied: PyYAML>=5.3.1 in c:\\users\\hb\\appdata\\roaming\\python\\python38\\site-packages (from -r requirements.txt (line 11)) (6.0.1)\n",
      "Requirement already satisfied: requests>=2.23.0 in c:\\users\\hb\\appdata\\roaming\\python\\python38\\site-packages (from -r requirements.txt (line 12)) (2.28.2)\n",
      "Requirement already satisfied: scipy>=1.4.1 in c:\\users\\hb\\appdata\\roaming\\python\\python38\\site-packages (from -r requirements.txt (line 13)) (1.10.1)\n",
      "Collecting thop>=0.1.1\n",
      "  Using cached thop-0.1.1.post2209072238-py3-none-any.whl (15 kB)\n",
      "Requirement already satisfied: tqdm>=4.64.0 in c:\\programdata\\anaconda3\\lib\\site-packages (from -r requirements.txt (line 17)) (4.65.0)\n",
      "Collecting ultralytics>=8.0.147\n",
      "  Using cached ultralytics-8.0.202-py3-none-any.whl (644 kB)\n",
      "Collecting setuptools>=65.5.1\n",
      "  Using cached setuptools-68.2.2-py3-none-any.whl (807 kB)\n",
      "Collecting gitdb<5,>=4.0.1\n",
      "  Using cached gitdb-4.0.11-py3-none-any.whl (62 kB)\n",
      "Requirement already satisfied: cycler>=0.10 in c:\\programdata\\anaconda3\\lib\\site-packages (from matplotlib>=3.3->-r requirements.txt (line 6)) (0.10.0)\n",
      "Requirement already satisfied: pyparsing!=2.0.4,!=2.1.2,!=2.1.6,>=2.0.3 in c:\\programdata\\anaconda3\\lib\\site-packages (from matplotlib>=3.3->-r requirements.txt (line 6)) (2.4.7)\n",
      "Requirement already satisfied: python-dateutil>=2.1 in c:\\programdata\\anaconda3\\lib\\site-packages (from matplotlib>=3.3->-r requirements.txt (line 6)) (2.8.1)\n",
      "Requirement already satisfied: pillow>=6.2.0 in c:\\users\\hb\\appdata\\roaming\\python\\python38\\site-packages (from matplotlib>=3.3->-r requirements.txt (line 6)) (9.5.0)\n",
      "Requirement already satisfied: kiwisolver>=1.0.1 in c:\\programdata\\anaconda3\\lib\\site-packages (from matplotlib>=3.3->-r requirements.txt (line 6)) (1.3.1)\n",
      "Requirement already satisfied: charset-normalizer<4,>=2 in c:\\programdata\\anaconda3\\lib\\site-packages (from requests>=2.23.0->-r requirements.txt (line 12)) (3.0.1)\n",
      "Requirement already satisfied: certifi>=2017.4.17 in c:\\programdata\\anaconda3\\lib\\site-packages (from requests>=2.23.0->-r requirements.txt (line 12)) (2020.12.5)\n",
      "Requirement already satisfied: idna<4,>=2.5 in c:\\programdata\\anaconda3\\lib\\site-packages (from requests>=2.23.0->-r requirements.txt (line 12)) (2.10)\n",
      "Requirement already satisfied: urllib3<1.27,>=1.21.1 in c:\\programdata\\anaconda3\\lib\\site-packages (from requests>=2.23.0->-r requirements.txt (line 12)) (1.26.4)\n",
      "Requirement already satisfied: torch in c:\\programdata\\anaconda3\\lib\\site-packages (from thop>=0.1.1->-r requirements.txt (line 14)) (2.1.0)\n",
      "Requirement already satisfied: colorama in c:\\users\\hb\\appdata\\roaming\\python\\python38\\site-packages (from tqdm>=4.64.0->-r requirements.txt (line 17)) (0.4.6)\n",
      "Requirement already satisfied: pandas>=1.1.4 in c:\\users\\hb\\appdata\\roaming\\python\\python38\\site-packages (from ultralytics>=8.0.147->-r requirements.txt (line 18)) (1.5.3)\n",
      "Collecting torchvision>=0.9.0\n",
      "  Using cached torchvision-0.16.0-cp38-cp38-win_amd64.whl (1.3 MB)\n",
      "Requirement already satisfied: seaborn>=0.11.0 in c:\\programdata\\anaconda3\\lib\\site-packages (from ultralytics>=8.0.147->-r requirements.txt (line 18)) (0.11.1)\n",
      "Collecting py-cpuinfo\n",
      "  Using cached py_cpuinfo-9.0.0-py3-none-any.whl (22 kB)\n",
      "Requirement already satisfied: six in c:\\programdata\\anaconda3\\lib\\site-packages (from cycler>=0.10->matplotlib>=3.3->-r requirements.txt (line 6)) (1.15.0)\n",
      "Collecting smmap<6,>=3.0.1\n",
      "  Using cached smmap-5.0.1-py3-none-any.whl (24 kB)\n",
      "Requirement already satisfied: pytz>=2020.1 in c:\\users\\hb\\appdata\\roaming\\python\\python38\\site-packages (from pandas>=1.1.4->ultralytics>=8.0.147->-r requirements.txt (line 18)) (2023.3)\n",
      "Requirement already satisfied: sympy in c:\\programdata\\anaconda3\\lib\\site-packages (from torch->thop>=0.1.1->-r requirements.txt (line 14)) (1.8)\n",
      "Requirement already satisfied: fsspec in c:\\users\\hb\\appdata\\roaming\\python\\python38\\site-packages (from torch->thop>=0.1.1->-r requirements.txt (line 14)) (2023.6.0)\n",
      "Requirement already satisfied: filelock in c:\\users\\hb\\appdata\\roaming\\python\\python38\\site-packages (from torch->thop>=0.1.1->-r requirements.txt (line 14)) (3.12.2)\n",
      "Requirement already satisfied: networkx in c:\\users\\hb\\appdata\\roaming\\python\\python38\\site-packages (from torch->thop>=0.1.1->-r requirements.txt (line 14)) (3.1)\n",
      "Requirement already satisfied: jinja2 in c:\\programdata\\anaconda3\\lib\\site-packages (from torch->thop>=0.1.1->-r requirements.txt (line 14)) (3.1.2)\n",
      "Requirement already satisfied: typing-extensions in c:\\programdata\\anaconda3\\lib\\site-packages (from torch->thop>=0.1.1->-r requirements.txt (line 14)) (4.7.1)\n",
      "Requirement already satisfied: MarkupSafe>=2.0 in c:\\programdata\\anaconda3\\lib\\site-packages (from jinja2->torch->thop>=0.1.1->-r requirements.txt (line 14)) (2.1.3)\n",
      "Requirement already satisfied: mpmath>=0.19 in c:\\programdata\\anaconda3\\lib\\site-packages (from sympy->torch->thop>=0.1.1->-r requirements.txt (line 14)) (1.2.1)\n",
      "Installing collected packages: smmap, torchvision, thop, py-cpuinfo, opencv-python, gitdb, ultralytics, setuptools, gitpython\n",
      "  Attempting uninstall: torchvision\n",
      "    Found existing installation: torchvision 0.8.2+cu110\n",
      "    Uninstalling torchvision-0.8.2+cu110:\n",
      "      Successfully uninstalled torchvision-0.8.2+cu110\n",
      "  Attempting uninstall: setuptools\n",
      "    Found existing installation: setuptools 60.2.0\n",
      "    Uninstalling setuptools-60.2.0:"
     ]
    },
    {
     "name": "stderr",
     "output_type": "stream",
     "text": [
      "  WARNING: The script cpuinfo.exe is installed in 'C:\\Users\\HB\\AppData\\Roaming\\Python\\Python38\\Scripts' which is not on PATH.\n",
      "  Consider adding this directory to PATH or, if you prefer to suppress this warning, use --no-warn-script-location.\n",
      "  WARNING: The scripts ultralytics.exe and yolo.exe are installed in 'C:\\Users\\HB\\AppData\\Roaming\\Python\\Python38\\Scripts' which is not on PATH.\n",
      "  Consider adding this directory to PATH or, if you prefer to suppress this warning, use --no-warn-script-location.\n",
      "ERROR: pip's dependency resolver does not currently take into account all the packages that are installed. This behaviour is the source of the following dependency conflicts.\n",
      "spyder 4.2.5 requires pyqt5<5.13, which is not installed.\n",
      "spyder 4.2.5 requires pyqtwebengine<5.13, which is not installed.\n",
      "conda-repo-cli 1.0.4 requires pathlib, which is not installed.\n",
      "openxlab 0.0.17 requires setuptools~=60.2.0, but you have setuptools 68.2.2 which is incompatible.\n",
      "sphinx 4.0.1 requires Jinja2<3.0,>=2.3, but you have jinja2 3.1.2 which is incompatible.\n",
      "sphinx 4.0.1 requires MarkupSafe<2.0, but you have markupsafe 2.1.3 which is incompatible.\n",
      "fastai 2.7.12 requires torch<2.1,>=1.7, but you have torch 2.1.0 which is incompatible.\n",
      "autogluon-timeseries 0.8.2 requires torch<1.14,>=1.9, but you have torch 2.1.0 which is incompatible.\n",
      "autogluon-multimodal 0.8.2 requires torch<1.14,>=1.9, but you have torch 2.1.0 which is incompatible.\n",
      "autogluon-multimodal 0.8.2 requires torchvision<0.15.0, but you have torchvision 0.16.0 which is incompatible.\n"
     ]
    },
    {
     "name": "stdout",
     "output_type": "stream",
     "text": [
      "\n",
      "      Successfully uninstalled setuptools-60.2.0\n",
      "Successfully installed gitdb-4.0.11 gitpython-3.1.40 opencv-python-4.8.1.78 py-cpuinfo-9.0.0 setuptools-68.2.2 smmap-5.0.1 thop-0.1.1.post2209072238 torchvision-0.16.0 ultralytics-8.0.202\n"
     ]
    }
   ],
   "source": [
    "!pip install -r requirements.txt --user"
   ]
  },
  {
   "cell_type": "code",
   "execution_count": 21,
   "metadata": {},
   "outputs": [
    {
     "name": "stdout",
     "output_type": "stream",
     "text": [
      "{'id': 33824, 'image_id': 31762, 'category_id': 2, 'segmentation': [], 'area': 196365.6, 'bbox': [0, 0, 545.46, 360], 'iscrowd': 0, 'attributes': {'Inspection_view': '측면', 'Inspection_location': '관로내부', 'Pipe_type': '강성관', 'Pipe_shape': '원형관', 'Class_category': '손상', 'Image_bit_depth': '32', 'Image_size': 395.16, 'Image_text': '유', 'Class_code': 'BK', 'Pipe_material': 'HP', 'Pipe_size': '600', 'Inspection_type': 'CCTV조사장비', 'occluded': False}}\n"
     ]
    }
   ],
   "source": [
    "import json\n",
    "from PIL import Image, ImageDraw\n",
    "\n",
    "# JSON 파일에서 이미지 정보를 읽어옵니다.\n",
    "with open('Z:/download/pipe/project/data/Training/labels/BK.json', 'r') as json_file:\n",
    "    data = json.load(json_file)\n",
    "\n",
    "# 이미지 파일 경로\n",
    "image_filename = 'Z:/download/pipe/project/data/Training/BK/images/train/BK_004446.png'\n",
    "\n",
    "# 해당 이미지에 대한 정보를 찾습니다.\n",
    "image_info = None\n",
    "for annotation in data['annotations']:\n",
    "    if annotation['image_id'] == 31762:\n",
    "        image_info = annotation\n",
    "        break\n",
    "print(image_info)\n",
    "if image_info is not None:\n",
    "    # 이미지를 엽니다.\n",
    "    image = Image.open(image_filename)\n",
    "\n",
    "    # ImageDraw 객체를 생성하여 이미지 위에 그릴 수 있습니다.\n",
    "    draw = ImageDraw.Draw(image)\n",
    "\n",
    "    # 경계 상자 정보를 가져옵니다.\n",
    "    bbox = image_info['bbox']\n",
    "    x, y, width, height = bbox\n",
    "\n",
    "    # 경계 상자를 그립니다.\n",
    "    draw.rectangle([x, 50, x+width, y+height], outline='red', width=2)\n",
    "\n",
    "    # 이미지를 저장하거나 표시합니다.\n",
    "    image.save('output.png')\n",
    "    image.show()\n",
    "else:\n",
    "    print(f\"Image with ID 10111 not found in the JSON data.\")"
   ]
  },
  {
   "cell_type": "markdown",
   "metadata": {},
   "source": [
    "# 데이터셋 정제 후 학습 진행"
   ]
  },
  {
   "cell_type": "code",
   "execution_count": 2,
   "metadata": {},
   "outputs": [
    {
     "name": "stdout",
     "output_type": "stream",
     "text": [
      "z:\\download\\pipe\\project\\data\\yolov5\n"
     ]
    }
   ],
   "source": [
    "cd z:/download/pipe/project/data/yolov5"
   ]
  },
  {
   "cell_type": "code",
   "execution_count": null,
   "metadata": {},
   "outputs": [],
   "source": [
    "!python train.py --img 416 --batch 1000 --epochs 1 --data Z:/download/pipe/project/data/Training/yamm.yaml --cfg ./models/yolov5s.yaml --weights yolov5s.pt --name pipe_first_result --device 0"
   ]
  },
  {
   "cell_type": "code",
   "execution_count": 3,
   "metadata": {},
   "outputs": [
    {
     "name": "stdout",
     "output_type": "stream",
     "text": [
      "^C\n"
     ]
    }
   ],
   "source": [
    "!python train.py --img 416 --batch 1000 --epochs 1 --data Z:/download/pipe/project/data/Training/yamm.yaml --cfg ./models/yolov5s.yaml --weights yolov5s.pt --name pipe_first_result --device 0 "
   ]
  },
  {
   "cell_type": "code",
   "execution_count": 32,
   "metadata": {},
   "outputs": [
    {
     "name": "stdout",
     "output_type": "stream",
     "text": [
      "^C\n"
     ]
    }
   ],
   "source": [
    "python Z:/download/pipe/project/data/yolov5/train.py --img 416 --batch 1000 --epochs 1 --data Z:/download/pipe/project/data/Training/real_folder/yamm.yaml --cfg Z:/download/pipe/project/data/yolov5/models/yolov5s.yaml --weights Z:/download/pipe/project/data/yolov5/yolov5s.pt --name pipe_first_result --device 0 "
   ]
  },
  {
   "cell_type": "code",
   "execution_count": 3,
   "metadata": {},
   "outputs": [
    {
     "name": "stdout",
     "output_type": "stream",
     "text": [
      "10000개의 사진 파일을 폴더 B로 복사했습니다.\n"
     ]
    }
   ],
   "source": [
    "## 자원 제한으로 일부 사진을 이용해 학습 진행\n",
    "\n",
    "import os\n",
    "import shutil\n",
    "\n",
    "# 폴더 A와 B의 경로 설정\n",
    "folder_a_path = 'Z:/download/pipe/project/data/Training/BK/images/train'  # 폴더 A의 경로를 실제 경로로 바꿔야 합니다.\n",
    "folder_b_path = 'Z:/download/pipe/project/data/Training/real/BK'  # 폴더 B의 경로를 실제 경로로 바꿔야 합니다.\n",
    "\n",
    "# 폴더 A에서 파일 목록 가져오기\n",
    "file_list = os.listdir(folder_a_path)\n",
    "\n",
    "# 폴더 A의 사진 파일 갯수 제한 (10000개)\n",
    "photo_limit = 10000\n",
    "photo_count = 0\n",
    "\n",
    "# 폴더 B가 없다면 생성\n",
    "if not os.path.exists(folder_b_path):\n",
    "    os.makedirs(folder_b_path)\n",
    "\n",
    "# 폴더 A에서 폴더 B로 사진 파일 복사\n",
    "for filename in file_list:\n",
    "    if photo_count >= photo_limit:\n",
    "        break\n",
    "\n",
    "    file_path = os.path.join(folder_a_path, filename)\n",
    "\n",
    "    # 파일이 이미지 파일인지 확인 (확장자에 따라)\n",
    "    if filename.lower().endswith(('.png', '.jpg', '.jpeg', '.gif', '.bmp')):\n",
    "        # 사진 파일을 폴더 B로 복사\n",
    "        shutil.copy(file_path, os.path.join(folder_b_path, filename))\n",
    "        photo_count += 1\n",
    "\n",
    "print(f'{photo_count}개의 사진 파일을 폴더 B로 복사했습니다.')"
   ]
  },
  {
   "cell_type": "code",
   "execution_count": 4,
   "metadata": {},
   "outputs": [
    {
     "name": "stdout",
     "output_type": "stream",
     "text": [
      "10000개의 사진 파일을 폴더 B로 복사했습니다.\n"
     ]
    }
   ],
   "source": [
    "import os\n",
    "import shutil\n",
    "\n",
    "# 폴더 A와 B의 경로 설정\n",
    "folder_a_path = 'Z:/download/pipe/project/data/Training/LP/LP'  # 폴더 A의 경로를 실제 경로로 바꿔야 합니다.\n",
    "folder_b_path = 'Z:/download/pipe/project/data/Training/real/LP'  # 폴더 B의 경로를 실제 경로로 바꿔야 합니다.\n",
    "\n",
    "# 폴더 A에서 파일 목록 가져오기\n",
    "file_list = os.listdir(folder_a_path)\n",
    "\n",
    "# 폴더 A의 사진 파일 갯수 제한 (10000개)\n",
    "photo_limit = 10000\n",
    "photo_count = 0\n",
    "\n",
    "# 폴더 B가 없다면 생성\n",
    "if not os.path.exists(folder_b_path):\n",
    "    os.makedirs(folder_b_path)\n",
    "\n",
    "# 폴더 A에서 폴더 B로 사진 파일 복사\n",
    "for filename in file_list:\n",
    "    if photo_count >= photo_limit:\n",
    "        break\n",
    "\n",
    "    file_path = os.path.join(folder_a_path, filename)\n",
    "\n",
    "    # 파일이 이미지 파일인지 확인 (확장자에 따라)\n",
    "    if filename.lower().endswith(('.png', '.jpg', '.jpeg', '.gif', '.bmp')):\n",
    "        # 사진 파일을 폴더 B로 복사\n",
    "        shutil.copy(file_path, os.path.join(folder_b_path, filename))\n",
    "        photo_count += 1\n",
    "\n",
    "print(f'{photo_count}개의 사진 파일을 폴더 B로 복사했습니다.')"
   ]
  }
 ],
 "metadata": {
  "kernelspec": {
   "display_name": "base",
   "language": "python",
   "name": "python3"
  },
  "language_info": {
   "codemirror_mode": {
    "name": "ipython",
    "version": 3
   },
   "file_extension": ".py",
   "mimetype": "text/x-python",
   "name": "python",
   "nbconvert_exporter": "python",
   "pygments_lexer": "ipython3",
   "version": "3.8.8"
  }
 },
 "nbformat": 4,
 "nbformat_minor": 2
}
